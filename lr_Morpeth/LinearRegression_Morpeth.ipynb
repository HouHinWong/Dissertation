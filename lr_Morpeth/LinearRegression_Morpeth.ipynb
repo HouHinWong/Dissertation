{
 "cells": [
  {
   "cell_type": "code",
   "execution_count": 74,
   "id": "6303521a-b54d-48d8-9e45-3da31ca1027c",
   "metadata": {},
   "outputs": [],
   "source": [
    "import os\n",
    "import pandas as pd\n",
    "path = r\"C:\\Users\\Wong\\Desktop\\Dissertation\\Imputed_dataset\"\n",
    "\n",
    "Morpeth_rainfall = pd.read_csv(os.path.join(path, 'Morpeth_rainfall.csv'))\n",
    "Morpeth_water = pd.read_csv(os.path.join(path, 'Morpeth_water.csv'))"
   ]
  },
  {
   "cell_type": "code",
   "execution_count": 75,
   "id": "30cc83a4-f4f5-4dc8-80f2-a4e9e70db0fb",
   "metadata": {},
   "outputs": [],
   "source": [
    "Morpeth_rainfall['dateTime'] = pd.to_datetime(Morpeth_rainfall['dateTime'])\n",
    "Morpeth_water['dateTime'] = pd.to_datetime(Morpeth_water['dateTime'])"
   ]
  },
  {
   "cell_type": "code",
   "execution_count": 76,
   "id": "781071bc-fbd8-4973-baaa-8b25560b427d",
   "metadata": {},
   "outputs": [],
   "source": [
    "Morpeth_water.set_index('dateTime', inplace=True)\n",
    "Morpeth_rainfall.set_index('dateTime', inplace=True)"
   ]
  },
  {
   "cell_type": "code",
   "execution_count": 77,
   "id": "fb171a41-c932-4b4c-9650-2649b2a97bb2",
   "metadata": {},
   "outputs": [],
   "source": [
    "start_date = pd.to_datetime('01/01/2017 00:00:00', format='%d/%m/%Y %H:%M:%S')\n",
    "end_date = pd.to_datetime('31/12/2020 00:00:00', format='%d/%m/%Y %H:%M:%S')\n",
    "Morpeth_water_subset = Morpeth_water.loc[(Morpeth_water.index >= start_date) & (Morpeth_water.index <= end_date)]\n",
    "Morpeth_rainfall_subset = Morpeth_rainfall.loc[(Morpeth_rainfall.index >= start_date) & (Morpeth_rainfall.index <= end_date)]"
   ]
  },
  {
   "cell_type": "code",
   "execution_count": 78,
   "id": "656f61e4",
   "metadata": {},
   "outputs": [
    {
     "data": {
      "text/plain": [
       "(140161, 1)"
      ]
     },
     "execution_count": 78,
     "metadata": {},
     "output_type": "execute_result"
    }
   ],
   "source": [
    "Morpeth_water_subset.shape"
   ]
  },
  {
   "cell_type": "code",
   "execution_count": 79,
   "id": "1b737111",
   "metadata": {},
   "outputs": [
    {
     "data": {
      "text/plain": [
       "(140161, 1)"
      ]
     },
     "execution_count": 79,
     "metadata": {},
     "output_type": "execute_result"
    }
   ],
   "source": [
    "Morpeth_rainfall_subset.shape"
   ]
  },
  {
   "cell_type": "code",
   "execution_count": 80,
   "id": "23926834-da55-45bf-a51f-372be2364b56",
   "metadata": {},
   "outputs": [],
   "source": [
    "import numpy as np\n",
    "import pandas as pd\n",
    "from sklearn.preprocessing import MinMaxScaler\n",
    "from sklearn.model_selection import train_test_split\n",
    "from sklearn.metrics import mean_absolute_percentage_error\n",
    "import tensorflow as tf\n",
    "from keras import Model\n",
    "from keras.callbacks import EarlyStopping\n",
    "import pandas as pd\n",
    "from sklearn.metrics import mean_squared_error, mean_absolute_error"
   ]
  },
  {
   "cell_type": "code",
   "execution_count": 81,
   "id": "faa638b9-9bab-45f8-9561-024199d4857c",
   "metadata": {},
   "outputs": [],
   "source": [
    "merged_data = pd.merge(Morpeth_rainfall_subset, Morpeth_water_subset, on='dateTime', how='inner')"
   ]
  },
  {
   "cell_type": "code",
   "execution_count": 82,
   "id": "dc9b37f5-ca6d-4307-a59a-e4f9e07f5ca6",
   "metadata": {},
   "outputs": [],
   "source": [
    "from sklearn.preprocessing import MinMaxScaler\n",
    "scaler = MinMaxScaler()\n",
    "merged_data = scaler.fit_transform(merged_data)"
   ]
  },
  {
   "cell_type": "code",
   "execution_count": 83,
   "id": "72e65d8c-ca5c-49ca-9095-104e2463a9a6",
   "metadata": {},
   "outputs": [],
   "source": [
    "train_data = merged_data[:112128]\n",
    "test_data = merged_data[112128:]"
   ]
  },
  {
   "cell_type": "code",
   "execution_count": 11,
   "id": "adbc42ce-da66-4b68-a997-e0aaac9831d7",
   "metadata": {},
   "outputs": [],
   "source": [
    "window_size = 96\n",
    "future_steps = 48\n",
    "\n",
    "X_train, y_train = [], []\n",
    "X_test, y_test = [], []\n",
    "\n",
    "for i in range(window_size, len(train_data) - future_steps + 1):\n",
    "    X_train.append(train_data[i - window_size:i, :])\n",
    "    y_train.append(train_data[i + future_steps - 1, -1])\n",
    "\n",
    "for i in range(window_size, len(test_data) - future_steps + 1):\n",
    "    X_test.append(test_data[i - window_size:i, :])\n",
    "    y_test.append(test_data[i + future_steps - 1, -1])\n",
    "\n",
    "X_train, y_train = np.array(X_train), np.array(y_train)\n",
    "X_test, y_test = np.array(X_test), np.array(y_test)\n",
    "\n",
    "X_train = X_train.reshape(X_train.shape[0], -1)\n",
    "X_test = X_test.reshape(X_test.shape[0], -1)"
   ]
  },
  {
   "cell_type": "code",
   "execution_count": 12,
   "id": "80233598-6de7-48ef-b56d-38e21069bff4",
   "metadata": {},
   "outputs": [],
   "source": [
    "from sklearn.linear_model import LinearRegression\n",
    "from sklearn.model_selection import cross_val_score\n",
    "from sklearn.model_selection import TimeSeriesSplit\n",
    "tscv = TimeSeriesSplit(n_splits=5)\n",
    "lr_Mor_96in_48out = LinearRegression()\n",
    "cv_scores_Mor_96in_48out_lr = cross_val_score(lr_Mor_96in_48out, X_train, y_train, cv=tscv, scoring='neg_mean_squared_error')"
   ]
  },
  {
   "cell_type": "code",
   "execution_count": 13,
   "id": "b631a40e-c9c2-42ac-b461-d2a85cf52c69",
   "metadata": {},
   "outputs": [
    {
     "name": "stdout",
     "output_type": "stream",
     "text": [
      "Cross-validation scores:\n",
      "[0.00091343 0.00152526 0.00012194 0.00141693 0.00191403]\n",
      "Mean MSE: 0.0011783195441020583\n",
      "Standard Deviation MSE: 0.0006172009791241853\n"
     ]
    }
   ],
   "source": [
    "cv_scores_Mor_96in_48out_lr = -cv_scores_Mor_96in_48out_lr\n",
    "print(\"Cross-validation scores:\")\n",
    "print(cv_scores_Mor_96in_48out_lr)\n",
    "print(\"Mean MSE:\", cv_scores_Mor_96in_48out_lr.mean())\n",
    "print(\"Standard Deviation MSE:\", cv_scores_Mor_96in_48out_lr.std())"
   ]
  },
  {
   "cell_type": "code",
   "execution_count": 14,
   "id": "25d91c19-dcaa-4314-a79a-9f79ae1216b9",
   "metadata": {},
   "outputs": [],
   "source": [
    "window_size = 48\n",
    "future_steps = 48\n",
    "\n",
    "X_train, y_train = [], []\n",
    "X_test, y_test = [], []\n",
    "\n",
    "for i in range(window_size, len(train_data) - future_steps + 1):\n",
    "    X_train.append(train_data[i - window_size:i, :])\n",
    "    y_train.append(train_data[i + future_steps - 1, -1])\n",
    "\n",
    "for i in range(window_size, len(test_data) - future_steps + 1):\n",
    "    X_test.append(test_data[i - window_size:i, :])\n",
    "    y_test.append(test_data[i + future_steps - 1, -1])\n",
    "\n",
    "X_train, y_train = np.array(X_train), np.array(y_train)\n",
    "X_test, y_test = np.array(X_test), np.array(y_test)\n",
    "\n",
    "X_train = X_train.reshape(X_train.shape[0], -1)\n",
    "X_test = X_test.reshape(X_test.shape[0], -1)"
   ]
  },
  {
   "cell_type": "code",
   "execution_count": 15,
   "id": "ea1c32b9-0a4f-4f35-a05c-2518f171e389",
   "metadata": {},
   "outputs": [],
   "source": [
    "lr_Mor_48in_48out = LinearRegression()\n",
    "cv_scores_Mor_48in_48out_lr = cross_val_score(lr_Mor_48in_48out, X_train, y_train, cv=tscv, scoring='neg_mean_squared_error')"
   ]
  },
  {
   "cell_type": "code",
   "execution_count": 16,
   "id": "0fd3d670-7a26-4c36-b17c-ca1d7770c00b",
   "metadata": {},
   "outputs": [
    {
     "name": "stdout",
     "output_type": "stream",
     "text": [
      "Cross-validation scores:\n",
      "[0.00093787 0.00152474 0.00013109 0.00135974 0.00193404]\n",
      "Mean MSE: 0.0011774949225099543\n",
      "Standard Deviation MSE: 0.0006129509875000068\n"
     ]
    }
   ],
   "source": [
    "cv_scores_Mor_48in_48out_lr = -cv_scores_Mor_48in_48out_lr\n",
    "print(\"Cross-validation scores:\")\n",
    "print(cv_scores_Mor_48in_48out_lr)\n",
    "print(\"Mean MSE:\", cv_scores_Mor_48in_48out_lr.mean())\n",
    "print(\"Standard Deviation MSE:\", cv_scores_Mor_48in_48out_lr.std())"
   ]
  },
  {
   "cell_type": "code",
   "execution_count": 17,
   "id": "9153dded-2159-4b63-a2a1-9b91297be48c",
   "metadata": {},
   "outputs": [],
   "source": [
    "window_size = 24\n",
    "future_steps = 48\n",
    "\n",
    "X_train, y_train = [], []\n",
    "X_test, y_test = [], []\n",
    "\n",
    "for i in range(window_size, len(train_data) - future_steps + 1):\n",
    "    X_train.append(train_data[i - window_size:i, :])\n",
    "    y_train.append(train_data[i + future_steps - 1, -1])\n",
    "\n",
    "for i in range(window_size, len(test_data) - future_steps + 1):\n",
    "    X_test.append(test_data[i - window_size:i, :])\n",
    "    y_test.append(test_data[i + future_steps - 1, -1])\n",
    "\n",
    "X_train, y_train = np.array(X_train), np.array(y_train)\n",
    "X_test, y_test = np.array(X_test), np.array(y_test)\n",
    "\n",
    "X_train = X_train.reshape(X_train.shape[0], -1)\n",
    "X_test = X_test.reshape(X_test.shape[0], -1)"
   ]
  },
  {
   "cell_type": "code",
   "execution_count": 18,
   "id": "c6dbbeba-61c8-4d84-a617-a36d2f60ea6e",
   "metadata": {},
   "outputs": [],
   "source": [
    "lr_Mor_24in_48out = LinearRegression()\n",
    "cv_scores_Mor_24in_48out_lr = cross_val_score(lr_Mor_24in_48out, X_train, y_train, cv=tscv, scoring='neg_mean_squared_error')"
   ]
  },
  {
   "cell_type": "code",
   "execution_count": 19,
   "id": "03e5f6f4-ca8a-43e6-b332-edb1fc2060a3",
   "metadata": {},
   "outputs": [
    {
     "name": "stdout",
     "output_type": "stream",
     "text": [
      "Cross-validation scores:\n",
      "[0.00095723 0.00150669 0.00013807 0.00138062 0.00197065]\n",
      "Mean MSE: 0.0011906509615595513\n",
      "Standard Deviation MSE: 0.0006175413221484748\n"
     ]
    }
   ],
   "source": [
    "cv_scores_Mor_24in_48out_lr = -cv_scores_Mor_24in_48out_lr\n",
    "print(\"Cross-validation scores:\")\n",
    "print(cv_scores_Mor_24in_48out_lr)\n",
    "print(\"Mean MSE:\", cv_scores_Mor_24in_48out_lr.mean())\n",
    "print(\"Standard Deviation MSE:\", cv_scores_Mor_24in_48out_lr.std())"
   ]
  },
  {
   "cell_type": "markdown",
   "id": "58853dc0-b21a-495c-bee2-abd818099eed",
   "metadata": {},
   "source": [
    "Now try the different window size 24,48,96 for 32output"
   ]
  },
  {
   "cell_type": "code",
   "execution_count": 20,
   "id": "4f059638-1821-4b8d-bfee-283548ef6694",
   "metadata": {},
   "outputs": [],
   "source": [
    "window_size = 96\n",
    "future_steps = 32\n",
    "\n",
    "X_train, y_train = [], []\n",
    "X_test, y_test = [], []\n",
    "\n",
    "for i in range(window_size, len(train_data) - future_steps + 1):\n",
    "    X_train.append(train_data[i - window_size:i, :])\n",
    "    y_train.append(train_data[i + future_steps - 1, -1])\n",
    "\n",
    "for i in range(window_size, len(test_data) - future_steps + 1):\n",
    "    X_test.append(test_data[i - window_size:i, :])\n",
    "    y_test.append(test_data[i + future_steps - 1, -1])\n",
    "\n",
    "X_train, y_train = np.array(X_train), np.array(y_train)\n",
    "X_test, y_test = np.array(X_test), np.array(y_test)\n",
    "\n",
    "X_train = X_train.reshape(X_train.shape[0], -1)\n",
    "X_test = X_test.reshape(X_test.shape[0], -1)"
   ]
  },
  {
   "cell_type": "code",
   "execution_count": 21,
   "id": "45b872f5-073a-400c-95d4-66fb4bac08ac",
   "metadata": {},
   "outputs": [],
   "source": [
    "lr_Mor_96in_32out = LinearRegression()\n",
    "cv_scores_Mor_96in_32out_lr = cross_val_score(lr_Mor_96in_32out, X_train, y_train, cv=tscv, scoring='neg_mean_squared_error')"
   ]
  },
  {
   "cell_type": "code",
   "execution_count": 22,
   "id": "c8b36def-fcf0-4692-8e97-b002a9d26c1c",
   "metadata": {},
   "outputs": [
    {
     "name": "stdout",
     "output_type": "stream",
     "text": [
      "Cross-validation scores:\n",
      "[5.11843823e-04 7.80629420e-04 7.69212136e-05 7.48292172e-04\n",
      " 9.88849973e-04]\n",
      "Mean MSE: 0.0006213073201337115\n",
      "Standard Deviation MSE: 0.00031142728709222605\n"
     ]
    }
   ],
   "source": [
    "cv_scores_Mor_96in_32out_lr = -cv_scores_Mor_96in_32out_lr\n",
    "print(\"Cross-validation scores:\")\n",
    "print(cv_scores_Mor_96in_32out_lr)\n",
    "print(\"Mean MSE:\", cv_scores_Mor_96in_32out_lr.mean())\n",
    "print(\"Standard Deviation MSE:\", cv_scores_Mor_96in_32out_lr.std())"
   ]
  },
  {
   "cell_type": "code",
   "execution_count": 23,
   "id": "cb1733d6-18c4-47f3-afdf-2c2e3bc95e21",
   "metadata": {},
   "outputs": [],
   "source": [
    "window_size = 48\n",
    "future_steps = 32\n",
    "\n",
    "X_train, y_train = [], []\n",
    "X_test, y_test = [], []\n",
    "\n",
    "for i in range(window_size, len(train_data) - future_steps + 1):\n",
    "    X_train.append(train_data[i - window_size:i, :])\n",
    "    y_train.append(train_data[i + future_steps - 1, -1])\n",
    "\n",
    "for i in range(window_size, len(test_data) - future_steps + 1):\n",
    "    X_test.append(test_data[i - window_size:i, :])\n",
    "    y_test.append(test_data[i + future_steps - 1, -1])\n",
    "\n",
    "X_train, y_train = np.array(X_train), np.array(y_train)\n",
    "X_test, y_test = np.array(X_test), np.array(y_test)\n",
    "\n",
    "X_train = X_train.reshape(X_train.shape[0], -1)\n",
    "X_test = X_test.reshape(X_test.shape[0], -1)"
   ]
  },
  {
   "cell_type": "code",
   "execution_count": 24,
   "id": "6111f6d2-0cd3-4a59-a645-22c4105f1457",
   "metadata": {},
   "outputs": [],
   "source": [
    "lr_Mor_48in_32out = LinearRegression()\n",
    "cv_scores_Mor_48in_32out_lr = cross_val_score(lr_Mor_48in_32out, X_train, y_train, cv=tscv, scoring='neg_mean_squared_error')"
   ]
  },
  {
   "cell_type": "code",
   "execution_count": 25,
   "id": "e4c10c30-6279-4fc8-9034-917d123d2d63",
   "metadata": {},
   "outputs": [
    {
     "name": "stdout",
     "output_type": "stream",
     "text": [
      "Cross-validation scores:\n",
      "[5.20097317e-04 7.79476542e-04 8.03060336e-05 7.22825292e-04\n",
      " 9.92898777e-04]\n",
      "Mean MSE: 0.0006191207922734466\n",
      "Standard Deviation MSE: 0.0003086439904668106\n"
     ]
    }
   ],
   "source": [
    "cv_scores_Mor_48in_32out_lr = -cv_scores_Mor_48in_32out_lr\n",
    "print(\"Cross-validation scores:\")\n",
    "print(cv_scores_Mor_48in_32out_lr)\n",
    "print(\"Mean MSE:\", cv_scores_Mor_48in_32out_lr.mean())\n",
    "print(\"Standard Deviation MSE:\", cv_scores_Mor_48in_32out_lr.std())"
   ]
  },
  {
   "cell_type": "code",
   "execution_count": 26,
   "id": "7c071500-0680-4f38-ba21-544495b81919",
   "metadata": {},
   "outputs": [],
   "source": [
    "window_size = 24\n",
    "future_steps = 32\n",
    "\n",
    "X_train, y_train = [], []\n",
    "X_test, y_test = [], []\n",
    "\n",
    "for i in range(window_size, len(train_data) - future_steps + 1):\n",
    "    X_train.append(train_data[i - window_size:i, :])\n",
    "    y_train.append(train_data[i + future_steps - 1, -1])\n",
    "\n",
    "for i in range(window_size, len(test_data) - future_steps + 1):\n",
    "    X_test.append(test_data[i - window_size:i, :])\n",
    "    y_test.append(test_data[i + future_steps - 1, -1])\n",
    "\n",
    "X_train, y_train = np.array(X_train), np.array(y_train)\n",
    "X_test, y_test = np.array(X_test), np.array(y_test)\n",
    "\n",
    "X_train = X_train.reshape(X_train.shape[0], -1)\n",
    "X_test = X_test.reshape(X_test.shape[0], -1)"
   ]
  },
  {
   "cell_type": "code",
   "execution_count": 27,
   "id": "605fbec2-2866-4b41-b891-0bd65d46ba0d",
   "metadata": {},
   "outputs": [],
   "source": [
    "lr_Mor_24in_32out = LinearRegression()\n",
    "cv_scores_Mor_24in_32out_lr = cross_val_score(lr_Mor_24in_32out, X_train, y_train, cv=tscv, scoring='neg_mean_squared_error')"
   ]
  },
  {
   "cell_type": "code",
   "execution_count": 28,
   "id": "65d5828b-cbf1-4b88-a0a1-dbda4f1bd73b",
   "metadata": {},
   "outputs": [
    {
     "name": "stdout",
     "output_type": "stream",
     "text": [
      "Cross-validation scores:\n",
      "[5.27511713e-04 7.68138847e-04 8.28782302e-05 7.45525415e-04\n",
      " 1.01276992e-03]\n",
      "Mean MSE: 0.0006273648248676166\n",
      "Standard Deviation MSE: 0.00031265080624378905\n"
     ]
    }
   ],
   "source": [
    "cv_scores_Mor_24in_32out_lr = -cv_scores_Mor_24in_32out_lr\n",
    "print(\"Cross-validation scores:\")\n",
    "print(cv_scores_Mor_24in_32out_lr)\n",
    "print(\"Mean MSE:\", cv_scores_Mor_24in_32out_lr.mean())\n",
    "print(\"Standard Deviation MSE:\", cv_scores_Mor_24in_32out_lr.std())"
   ]
  },
  {
   "cell_type": "markdown",
   "id": "c2427642-8ac7-4d1c-8e2e-571ead1c844e",
   "metadata": {},
   "source": [
    "Now try the different window size 24,48,96 for 16output"
   ]
  },
  {
   "cell_type": "code",
   "execution_count": 29,
   "id": "c0c31905-fc1e-4447-80a4-a4a2343aac08",
   "metadata": {},
   "outputs": [],
   "source": [
    "window_size = 96\n",
    "future_steps = 16\n",
    "\n",
    "X_train, y_train = [], []\n",
    "X_test, y_test = [], []\n",
    "\n",
    "for i in range(window_size, len(train_data) - future_steps + 1):\n",
    "    X_train.append(train_data[i - window_size:i, :])\n",
    "    y_train.append(train_data[i + future_steps - 1, -1])\n",
    "\n",
    "for i in range(window_size, len(test_data) - future_steps + 1):\n",
    "    X_test.append(test_data[i - window_size:i, :])\n",
    "    y_test.append(test_data[i + future_steps - 1, -1])\n",
    "\n",
    "X_train, y_train = np.array(X_train), np.array(y_train)\n",
    "X_test, y_test = np.array(X_test), np.array(y_test)\n",
    "\n",
    "X_train = X_train.reshape(X_train.shape[0], -1)\n",
    "X_test = X_test.reshape(X_test.shape[0], -1)"
   ]
  },
  {
   "cell_type": "code",
   "execution_count": 30,
   "id": "fdc05a6e-5ef1-4bef-8a8f-0327eedea3d9",
   "metadata": {},
   "outputs": [],
   "source": [
    "lr_Mor_96in_16out = LinearRegression()\n",
    "cv_scores_Mor_96in_16out_lr = cross_val_score(lr_Mor_96in_16out, X_train, y_train, cv=tscv, scoring='neg_mean_squared_error')"
   ]
  },
  {
   "cell_type": "code",
   "execution_count": 31,
   "id": "011b2fb8-2c68-4154-ac13-ce43ff01cc66",
   "metadata": {},
   "outputs": [
    {
     "name": "stdout",
     "output_type": "stream",
     "text": [
      "Cross-validation scores:\n",
      "[1.29467383e-04 1.94797278e-04 2.68335146e-05 2.26614531e-04\n",
      " 2.70823427e-04]\n",
      "Mean MSE: 0.00016970722659961308\n",
      "Standard Deviation MSE: 8.499950648427315e-05\n"
     ]
    }
   ],
   "source": [
    "cv_scores_Mor_96in_16out_lr = -cv_scores_Mor_96in_16out_lr\n",
    "print(\"Cross-validation scores:\")\n",
    "print(cv_scores_Mor_96in_16out_lr)\n",
    "print(\"Mean MSE:\", cv_scores_Mor_96in_16out_lr.mean())\n",
    "print(\"Standard Deviation MSE:\", cv_scores_Mor_96in_16out_lr.std())"
   ]
  },
  {
   "cell_type": "code",
   "execution_count": 32,
   "id": "5638e832-a232-4bdf-99ba-8668d8b14961",
   "metadata": {},
   "outputs": [],
   "source": [
    "window_size = 48\n",
    "future_steps = 16\n",
    "\n",
    "X_train, y_train = [], []\n",
    "X_test, y_test = [], []\n",
    "\n",
    "for i in range(window_size, len(train_data) - future_steps + 1):\n",
    "    X_train.append(train_data[i - window_size:i, :])\n",
    "    y_train.append(train_data[i + future_steps - 1, -1])\n",
    "\n",
    "for i in range(window_size, len(test_data) - future_steps + 1):\n",
    "    X_test.append(test_data[i - window_size:i, :])\n",
    "    y_test.append(test_data[i + future_steps - 1, -1])\n",
    "\n",
    "X_train, y_train = np.array(X_train), np.array(y_train)\n",
    "X_test, y_test = np.array(X_test), np.array(y_test)\n",
    "\n",
    "X_train = X_train.reshape(X_train.shape[0], -1)\n",
    "X_test = X_test.reshape(X_test.shape[0], -1)"
   ]
  },
  {
   "cell_type": "code",
   "execution_count": 33,
   "id": "23a3a1d2-e560-4634-aca2-febe29c77fe0",
   "metadata": {},
   "outputs": [],
   "source": [
    "lr_Mor_48in_16out = LinearRegression()\n",
    "cv_scores_Mor_48in_16out_lr = cross_val_score(lr_Mor_48in_16out, X_train, y_train, cv=tscv, scoring='neg_mean_squared_error')"
   ]
  },
  {
   "cell_type": "code",
   "execution_count": 34,
   "id": "1478ed6c-cb82-44a3-bf94-b2fe8c50fc07",
   "metadata": {},
   "outputs": [
    {
     "name": "stdout",
     "output_type": "stream",
     "text": [
      "Cross-validation scores:\n",
      "[1.30654463e-04 1.94655734e-04 2.72835998e-05 2.23162270e-04\n",
      " 2.69117759e-04]\n",
      "Mean MSE: 0.00016897476525487521\n",
      "Standard Deviation MSE: 8.38680499585083e-05\n"
     ]
    }
   ],
   "source": [
    "cv_scores_Mor_48in_16out_lr = -cv_scores_Mor_48in_16out_lr\n",
    "print(\"Cross-validation scores:\")\n",
    "print(cv_scores_Mor_48in_16out_lr)\n",
    "print(\"Mean MSE:\", cv_scores_Mor_48in_16out_lr.mean())\n",
    "print(\"Standard Deviation MSE:\", cv_scores_Mor_48in_16out_lr.std())"
   ]
  },
  {
   "cell_type": "code",
   "execution_count": 35,
   "id": "f48bbbac-ae7d-4f85-a1e6-7d45889ee91a",
   "metadata": {},
   "outputs": [],
   "source": [
    "window_size = 24\n",
    "future_steps = 16\n",
    "\n",
    "X_train, y_train = [], []\n",
    "X_test, y_test = [], []\n",
    "\n",
    "for i in range(window_size, len(train_data) - future_steps + 1):\n",
    "    X_train.append(train_data[i - window_size:i, :])\n",
    "    y_train.append(train_data[i + future_steps - 1, -1])\n",
    "\n",
    "for i in range(window_size, len(test_data) - future_steps + 1):\n",
    "    X_test.append(test_data[i - window_size:i, :])\n",
    "    y_test.append(test_data[i + future_steps - 1, -1])\n",
    "\n",
    "X_train, y_train = np.array(X_train), np.array(y_train)\n",
    "X_test, y_test = np.array(X_test), np.array(y_test)\n",
    "\n",
    "X_train = X_train.reshape(X_train.shape[0], -1)\n",
    "X_test = X_test.reshape(X_test.shape[0], -1)"
   ]
  },
  {
   "cell_type": "code",
   "execution_count": 36,
   "id": "1f3f8569-d8b5-44d3-820f-b5bf3cce01d4",
   "metadata": {},
   "outputs": [],
   "source": [
    "lr_Mor_24in_16out = LinearRegression()\n",
    "cv_scores_Mor_24in_16out_lr = cross_val_score(lr_Mor_24in_16out, X_train, y_train, cv=tscv, scoring='neg_mean_squared_error')"
   ]
  },
  {
   "cell_type": "code",
   "execution_count": 37,
   "id": "0ef310ca-ddfe-4c4c-af31-f421b542de56",
   "metadata": {},
   "outputs": [
    {
     "name": "stdout",
     "output_type": "stream",
     "text": [
      "Cross-validation scores:\n",
      "[1.31048644e-04 1.92499550e-04 2.78989661e-05 2.33456596e-04\n",
      " 2.72657146e-04]\n",
      "Mean MSE: 0.00017151218021211294\n",
      "Standard Deviation MSE: 8.575539325821005e-05\n"
     ]
    }
   ],
   "source": [
    "cv_scores_Mor_24in_16out_lr = -cv_scores_Mor_24in_16out_lr\n",
    "print(\"Cross-validation scores:\")\n",
    "print(cv_scores_Mor_24in_16out_lr)\n",
    "print(\"Mean MSE:\", cv_scores_Mor_24in_16out_lr.mean())\n",
    "print(\"Standard Deviation MSE:\", cv_scores_Mor_24in_16out_lr.std())"
   ]
  },
  {
   "cell_type": "markdown",
   "id": "e380fa02-ad5b-4ded-8257-975533b06899",
   "metadata": {},
   "source": [
    "Now try the different window size 24,48,96 for 8output"
   ]
  },
  {
   "cell_type": "code",
   "execution_count": 38,
   "id": "437b47fd-e0c0-4b0c-b5e9-c5c5bbf4204d",
   "metadata": {},
   "outputs": [],
   "source": [
    "window_size = 96\n",
    "future_steps = 8\n",
    "\n",
    "X_train, y_train = [], []\n",
    "X_test, y_test = [], []\n",
    "\n",
    "for i in range(window_size, len(train_data) - future_steps + 1):\n",
    "    X_train.append(train_data[i - window_size:i, :])\n",
    "    y_train.append(train_data[i + future_steps - 1, -1])\n",
    "\n",
    "for i in range(window_size, len(test_data) - future_steps + 1):\n",
    "    X_test.append(test_data[i - window_size:i, :])\n",
    "    y_test.append(test_data[i + future_steps - 1, -1])\n",
    "\n",
    "X_train, y_train = np.array(X_train), np.array(y_train)\n",
    "X_test, y_test = np.array(X_test), np.array(y_test)\n",
    "\n",
    "X_train = X_train.reshape(X_train.shape[0], -1)\n",
    "X_test = X_test.reshape(X_test.shape[0], -1)"
   ]
  },
  {
   "cell_type": "code",
   "execution_count": 39,
   "id": "e88c08bc-8549-4286-a76d-a916b79279d4",
   "metadata": {},
   "outputs": [],
   "source": [
    "lr_Mor_96in_8out = LinearRegression()\n",
    "cv_scores_Mor_96in_8out_lr = cross_val_score(lr_Mor_96in_8out, X_train, y_train, cv=tscv, scoring='neg_mean_squared_error')"
   ]
  },
  {
   "cell_type": "code",
   "execution_count": 40,
   "id": "e54596d4-cc3f-4386-9ae3-cac8cbe7ae11",
   "metadata": {},
   "outputs": [
    {
     "name": "stdout",
     "output_type": "stream",
     "text": [
      "Cross-validation scores:\n",
      "[2.93473193e-05 3.70992128e-05 7.90139435e-06 4.97254266e-05\n",
      " 5.81555341e-05]\n",
      "Mean MSE: 3.644577743230783e-05\n",
      "Standard Deviation MSE: 1.7396893444933614e-05\n"
     ]
    }
   ],
   "source": [
    "cv_scores_Mor_96in_8out_lr = -cv_scores_Mor_96in_8out_lr\n",
    "print(\"Cross-validation scores:\")\n",
    "print(cv_scores_Mor_96in_8out_lr)\n",
    "print(\"Mean MSE:\", cv_scores_Mor_96in_8out_lr.mean())\n",
    "print(\"Standard Deviation MSE:\", cv_scores_Mor_96in_8out_lr.std())"
   ]
  },
  {
   "cell_type": "code",
   "execution_count": 41,
   "id": "710084b4-23dd-4994-b36a-b19096fb4018",
   "metadata": {},
   "outputs": [],
   "source": [
    "window_size = 48\n",
    "future_steps = 8\n",
    "\n",
    "X_train, y_train = [], []\n",
    "X_test, y_test = [], []\n",
    "\n",
    "for i in range(window_size, len(train_data) - future_steps + 1):\n",
    "    X_train.append(train_data[i - window_size:i, :])\n",
    "    y_train.append(train_data[i + future_steps - 1, -1])\n",
    "\n",
    "for i in range(window_size, len(test_data) - future_steps + 1):\n",
    "    X_test.append(test_data[i - window_size:i, :])\n",
    "    y_test.append(test_data[i + future_steps - 1, -1])\n",
    "\n",
    "X_train, y_train = np.array(X_train), np.array(y_train)\n",
    "X_test, y_test = np.array(X_test), np.array(y_test)\n",
    "\n",
    "X_train = X_train.reshape(X_train.shape[0], -1)\n",
    "X_test = X_test.reshape(X_test.shape[0], -1)"
   ]
  },
  {
   "cell_type": "code",
   "execution_count": 42,
   "id": "e9ac0204-b594-4ff6-94b9-1770b33b43da",
   "metadata": {},
   "outputs": [],
   "source": [
    "lr_Mor_48in_8out = LinearRegression()\n",
    "cv_scores_Mor_48in_8out_lr = cross_val_score(lr_Mor_48in_8out, X_train, y_train, cv=tscv, scoring='neg_mean_squared_error')"
   ]
  },
  {
   "cell_type": "code",
   "execution_count": 43,
   "id": "d1324827-6af5-415a-b903-1b3c513ff72e",
   "metadata": {},
   "outputs": [
    {
     "name": "stdout",
     "output_type": "stream",
     "text": [
      "Cross-validation scores:\n",
      "[2.94589333e-05 3.70662212e-05 7.93366797e-06 4.92376287e-05\n",
      " 5.75691877e-05]\n",
      "Mean MSE: 3.6253127775407e-05\n",
      "Standard Deviation MSE: 1.7156839333846233e-05\n"
     ]
    }
   ],
   "source": [
    "cv_scores_Mor_48in_8out_lr = -cv_scores_Mor_48in_8out_lr\n",
    "print(\"Cross-validation scores:\")\n",
    "print(cv_scores_Mor_48in_8out_lr)\n",
    "print(\"Mean MSE:\", cv_scores_Mor_48in_8out_lr.mean())\n",
    "print(\"Standard Deviation MSE:\", cv_scores_Mor_48in_8out_lr.std())"
   ]
  },
  {
   "cell_type": "code",
   "execution_count": 44,
   "id": "4e10814a-7823-4fc2-ad24-5a041bb21d60",
   "metadata": {},
   "outputs": [],
   "source": [
    "window_size = 24\n",
    "future_steps = 8\n",
    "\n",
    "X_train, y_train = [], []\n",
    "X_test, y_test = [], []\n",
    "\n",
    "for i in range(window_size, len(train_data) - future_steps + 1):\n",
    "    X_train.append(train_data[i - window_size:i, :])\n",
    "    y_train.append(train_data[i + future_steps - 1, -1])\n",
    "\n",
    "for i in range(window_size, len(test_data) - future_steps + 1):\n",
    "    X_test.append(test_data[i - window_size:i, :])\n",
    "    y_test.append(test_data[i + future_steps - 1, -1])\n",
    "\n",
    "X_train, y_train = np.array(X_train), np.array(y_train)\n",
    "X_test, y_test = np.array(X_test), np.array(y_test)\n",
    "\n",
    "X_train = X_train.reshape(X_train.shape[0], -1)\n",
    "X_test = X_test.reshape(X_test.shape[0], -1)"
   ]
  },
  {
   "cell_type": "code",
   "execution_count": 45,
   "id": "43feea5e-6e2e-49d2-9a85-4c59d1f9de12",
   "metadata": {},
   "outputs": [],
   "source": [
    "lr_Mor_24in_8out = LinearRegression()\n",
    "cv_scores_Mor_24in_8out_lr = cross_val_score(lr_Mor_24in_8out, X_train, y_train, cv=tscv, scoring='neg_mean_squared_error')"
   ]
  },
  {
   "cell_type": "code",
   "execution_count": 46,
   "id": "92899e9a-c094-4ae8-9935-beb8f357b9be",
   "metadata": {},
   "outputs": [
    {
     "name": "stdout",
     "output_type": "stream",
     "text": [
      "Cross-validation scores:\n",
      "[2.94943888e-05 3.68497840e-05 7.98019059e-06 5.09278231e-05\n",
      " 5.78506731e-05]\n",
      "Mean MSE: 3.6620571923748484e-05\n",
      "Standard Deviation MSE: 1.7472956816193487e-05\n"
     ]
    }
   ],
   "source": [
    "cv_scores_Mor_24in_8out_lr = -cv_scores_Mor_24in_8out_lr\n",
    "print(\"Cross-validation scores:\")\n",
    "print(cv_scores_Mor_24in_8out_lr)\n",
    "print(\"Mean MSE:\", cv_scores_Mor_24in_8out_lr.mean())\n",
    "print(\"Standard Deviation MSE:\", cv_scores_Mor_24in_8out_lr.std())"
   ]
  },
  {
   "cell_type": "markdown",
   "id": "e5abd471-1c5c-42cc-949a-c5251e887e33",
   "metadata": {},
   "source": [
    "Use grid search to find the best parameters for the selected window size of different output size"
   ]
  },
  {
   "cell_type": "code",
   "execution_count": null,
   "id": "bdbadb41-a4ba-4dd2-ac2e-9005c4769b5c",
   "metadata": {},
   "outputs": [],
   "source": [
    "cv_scores_Mor_48in_48out_lr"
   ]
  },
  {
   "cell_type": "code",
   "execution_count": null,
   "id": "18b62d86-053e-44ff-ae15-f7e2fb5f88c8",
   "metadata": {},
   "outputs": [],
   "source": [
    "cv_scores_Mor_48in_32out_lr"
   ]
  },
  {
   "cell_type": "code",
   "execution_count": null,
   "id": "435fc635-cb7c-40b4-ae12-ddb34c1312e3",
   "metadata": {},
   "outputs": [],
   "source": [
    "cv_scores_Mor_48in_16out_lr"
   ]
  },
  {
   "cell_type": "code",
   "execution_count": null,
   "id": "01f63fe2-a951-4d30-b4d2-949cc8fc2520",
   "metadata": {},
   "outputs": [],
   "source": [
    "cv_scores_Mor_48in_8out_lr"
   ]
  },
  {
   "cell_type": "code",
   "execution_count": 47,
   "id": "25ffe6da-81de-452b-bd45-9267e9c3e553",
   "metadata": {},
   "outputs": [],
   "source": [
    "window_size = 48\n",
    "future_steps = 48\n",
    "\n",
    "X_train, y_train = [], []\n",
    "X_test, y_test = [], []\n",
    "\n",
    "for i in range(window_size, len(train_data) - future_steps + 1):\n",
    "    X_train.append(train_data[i - window_size:i, :])\n",
    "    y_train.append(train_data[i + future_steps - 1, -1])\n",
    "\n",
    "for i in range(window_size, len(test_data) - future_steps + 1):\n",
    "    X_test.append(test_data[i - window_size:i, :])\n",
    "    y_test.append(test_data[i + future_steps - 1, -1])\n",
    "\n",
    "X_train, y_train = np.array(X_train), np.array(y_train)\n",
    "X_test, y_test = np.array(X_test), np.array(y_test)\n",
    "\n",
    "X_train = X_train.reshape(X_train.shape[0], -1)\n",
    "X_test = X_test.reshape(X_test.shape[0], -1)"
   ]
  },
  {
   "cell_type": "code",
   "execution_count": 48,
   "id": "e1bc5adf-07e3-470e-aa8c-5a4a479effc8",
   "metadata": {},
   "outputs": [],
   "source": [
    "lr_Mor_48in_48out_1 = LinearRegression()"
   ]
  },
  {
   "cell_type": "code",
   "execution_count": 49,
   "id": "40f6ea32-e5d0-4a1f-b904-b7085481b440",
   "metadata": {},
   "outputs": [
    {
     "data": {
      "text/html": [
       "<style>#sk-container-id-1 {color: black;background-color: white;}#sk-container-id-1 pre{padding: 0;}#sk-container-id-1 div.sk-toggleable {background-color: white;}#sk-container-id-1 label.sk-toggleable__label {cursor: pointer;display: block;width: 100%;margin-bottom: 0;padding: 0.3em;box-sizing: border-box;text-align: center;}#sk-container-id-1 label.sk-toggleable__label-arrow:before {content: \"▸\";float: left;margin-right: 0.25em;color: #696969;}#sk-container-id-1 label.sk-toggleable__label-arrow:hover:before {color: black;}#sk-container-id-1 div.sk-estimator:hover label.sk-toggleable__label-arrow:before {color: black;}#sk-container-id-1 div.sk-toggleable__content {max-height: 0;max-width: 0;overflow: hidden;text-align: left;background-color: #f0f8ff;}#sk-container-id-1 div.sk-toggleable__content pre {margin: 0.2em;color: black;border-radius: 0.25em;background-color: #f0f8ff;}#sk-container-id-1 input.sk-toggleable__control:checked~div.sk-toggleable__content {max-height: 200px;max-width: 100%;overflow: auto;}#sk-container-id-1 input.sk-toggleable__control:checked~label.sk-toggleable__label-arrow:before {content: \"▾\";}#sk-container-id-1 div.sk-estimator input.sk-toggleable__control:checked~label.sk-toggleable__label {background-color: #d4ebff;}#sk-container-id-1 div.sk-label input.sk-toggleable__control:checked~label.sk-toggleable__label {background-color: #d4ebff;}#sk-container-id-1 input.sk-hidden--visually {border: 0;clip: rect(1px 1px 1px 1px);clip: rect(1px, 1px, 1px, 1px);height: 1px;margin: -1px;overflow: hidden;padding: 0;position: absolute;width: 1px;}#sk-container-id-1 div.sk-estimator {font-family: monospace;background-color: #f0f8ff;border: 1px dotted black;border-radius: 0.25em;box-sizing: border-box;margin-bottom: 0.5em;}#sk-container-id-1 div.sk-estimator:hover {background-color: #d4ebff;}#sk-container-id-1 div.sk-parallel-item::after {content: \"\";width: 100%;border-bottom: 1px solid gray;flex-grow: 1;}#sk-container-id-1 div.sk-label:hover label.sk-toggleable__label {background-color: #d4ebff;}#sk-container-id-1 div.sk-serial::before {content: \"\";position: absolute;border-left: 1px solid gray;box-sizing: border-box;top: 0;bottom: 0;left: 50%;z-index: 0;}#sk-container-id-1 div.sk-serial {display: flex;flex-direction: column;align-items: center;background-color: white;padding-right: 0.2em;padding-left: 0.2em;position: relative;}#sk-container-id-1 div.sk-item {position: relative;z-index: 1;}#sk-container-id-1 div.sk-parallel {display: flex;align-items: stretch;justify-content: center;background-color: white;position: relative;}#sk-container-id-1 div.sk-item::before, #sk-container-id-1 div.sk-parallel-item::before {content: \"\";position: absolute;border-left: 1px solid gray;box-sizing: border-box;top: 0;bottom: 0;left: 50%;z-index: -1;}#sk-container-id-1 div.sk-parallel-item {display: flex;flex-direction: column;z-index: 1;position: relative;background-color: white;}#sk-container-id-1 div.sk-parallel-item:first-child::after {align-self: flex-end;width: 50%;}#sk-container-id-1 div.sk-parallel-item:last-child::after {align-self: flex-start;width: 50%;}#sk-container-id-1 div.sk-parallel-item:only-child::after {width: 0;}#sk-container-id-1 div.sk-dashed-wrapped {border: 1px dashed gray;margin: 0 0.4em 0.5em 0.4em;box-sizing: border-box;padding-bottom: 0.4em;background-color: white;}#sk-container-id-1 div.sk-label label {font-family: monospace;font-weight: bold;display: inline-block;line-height: 1.2em;}#sk-container-id-1 div.sk-label-container {text-align: center;}#sk-container-id-1 div.sk-container {/* jupyter's `normalize.less` sets `[hidden] { display: none; }` but bootstrap.min.css set `[hidden] { display: none !important; }` so we also need the `!important` here to be able to override the default hidden behavior on the sphinx rendered scikit-learn.org. See: https://github.com/scikit-learn/scikit-learn/issues/21755 */display: inline-block !important;position: relative;}#sk-container-id-1 div.sk-text-repr-fallback {display: none;}</style><div id=\"sk-container-id-1\" class=\"sk-top-container\"><div class=\"sk-text-repr-fallback\"><pre>LinearRegression()</pre><b>In a Jupyter environment, please rerun this cell to show the HTML representation or trust the notebook. <br />On GitHub, the HTML representation is unable to render, please try loading this page with nbviewer.org.</b></div><div class=\"sk-container\" hidden><div class=\"sk-item\"><div class=\"sk-estimator sk-toggleable\"><input class=\"sk-toggleable__control sk-hidden--visually\" id=\"sk-estimator-id-1\" type=\"checkbox\" checked><label for=\"sk-estimator-id-1\" class=\"sk-toggleable__label sk-toggleable__label-arrow\">LinearRegression</label><div class=\"sk-toggleable__content\"><pre>LinearRegression()</pre></div></div></div></div></div>"
      ],
      "text/plain": [
       "LinearRegression()"
      ]
     },
     "execution_count": 49,
     "metadata": {},
     "output_type": "execute_result"
    }
   ],
   "source": [
    "lr_Mor_48in_48out_1.fit(X_train, y_train)"
   ]
  },
  {
   "cell_type": "code",
   "execution_count": 50,
   "id": "72fb7ffb",
   "metadata": {},
   "outputs": [],
   "source": [
    "pred_lr_Mor_48in_48out = lr_Mor_48in_48out_1.predict(X_test)"
   ]
  },
  {
   "cell_type": "code",
   "execution_count": 51,
   "id": "7e36c44a",
   "metadata": {},
   "outputs": [
    {
     "data": {
      "image/png": "[encoded data removed]",
      "text/plain": [
       "<Figure size 1000x600 with 1 Axes>"
      ]
     },
     "metadata": {},
     "output_type": "display_data"
    }
   ],
   "source": [
    "import matplotlib.pyplot as plt\n",
    "plt.figure(figsize=(10, 6))\n",
    "plt.plot(y_test, label='True values', color='blue')\n",
    "plt.plot(pred_lr_Mor_48in_48out, label='Predicted values', color='red')\n",
    "plt.title('Comparison between True and Predicted values')\n",
    "plt.xlabel('Data points')\n",
    "plt.ylabel('Values')\n",
    "plt.legend()\n",
    "plt.show()"
   ]
  },
  {
   "cell_type": "code",
   "execution_count": 52,
   "id": "98c53357-58ec-439d-a182-2691d0cd197e",
   "metadata": {},
   "outputs": [
    {
     "name": "stdout",
     "output_type": "stream",
     "text": [
      "Performance metrics:\n",
      "MSE: 0.0006275571381686169\n",
      "MAE: 0.008983458049037447\n",
      "NSE: 0.7381015921091472\n"
     ]
    }
   ],
   "source": [
    "def nse(y_test, pred_lr_Mor_48in_48out):\n",
    "    numerator = np.sum((y_test - pred_lr_Mor_48in_48out) ** 2)\n",
    "    denominator = np.sum((y_test - np.mean(y_test)) ** 2)\n",
    "    return 1 - (numerator / denominator)\n",
    "\n",
    "mse = mean_squared_error(y_test, pred_lr_Mor_48in_48out)\n",
    "mae = mean_absolute_error(y_test, pred_lr_Mor_48in_48out)\n",
    "nse_value = nse(y_test, pred_lr_Mor_48in_48out)\n",
    "\n",
    "print(\"Performance metrics:\")\n",
    "print(f\"MSE: {mse}\")\n",
    "print(f\"MAE: {mae}\")\n",
    "print(f\"NSE: {nse_value}\")"
   ]
  },
  {
   "cell_type": "code",
   "execution_count": 55,
   "id": "0fd95c81-bd44-4634-b05b-1c922ffe68d3",
   "metadata": {},
   "outputs": [
    {
     "data": {
      "text/plain": [
       "['lr_Mor_48in_48out.joblib']"
      ]
     },
     "execution_count": 55,
     "metadata": {},
     "output_type": "execute_result"
    }
   ],
   "source": [
    "from joblib import dump\n",
    "dump(lr_Mor_48in_48out, 'lr_Mor_48in_48out.joblib')"
   ]
  },
  {
   "cell_type": "code",
   "execution_count": 56,
   "id": "9dd89fa0-8d3f-464d-a517-b286e6516b32",
   "metadata": {},
   "outputs": [],
   "source": [
    "window_size = 48\n",
    "future_steps = 32\n",
    "\n",
    "X_train, y_train = [], []\n",
    "X_test, y_test = [], []\n",
    "\n",
    "for i in range(window_size, len(train_data) - future_steps + 1):\n",
    "    X_train.append(train_data[i - window_size:i, :])\n",
    "    y_train.append(train_data[i + future_steps - 1, -1])\n",
    "\n",
    "for i in range(window_size, len(test_data) - future_steps + 1):\n",
    "    X_test.append(test_data[i - window_size:i, :])\n",
    "    y_test.append(test_data[i + future_steps - 1, -1])\n",
    "\n",
    "X_train, y_train = np.array(X_train), np.array(y_train)\n",
    "X_test, y_test = np.array(X_test), np.array(y_test)\n",
    "\n",
    "X_train = X_train.reshape(X_train.shape[0], -1)\n",
    "X_test = X_test.reshape(X_test.shape[0], -1)"
   ]
  },
  {
   "cell_type": "code",
   "execution_count": 57,
   "id": "9f147b75-e1f2-493b-8ad0-f7c07064e43f",
   "metadata": {},
   "outputs": [
    {
     "data": {
      "text/html": [
       "<style>#sk-container-id-2 {color: black;background-color: white;}#sk-container-id-2 pre{padding: 0;}#sk-container-id-2 div.sk-toggleable {background-color: white;}#sk-container-id-2 label.sk-toggleable__label {cursor: pointer;display: block;width: 100%;margin-bottom: 0;padding: 0.3em;box-sizing: border-box;text-align: center;}#sk-container-id-2 label.sk-toggleable__label-arrow:before {content: \"▸\";float: left;margin-right: 0.25em;color: #696969;}#sk-container-id-2 label.sk-toggleable__label-arrow:hover:before {color: black;}#sk-container-id-2 div.sk-estimator:hover label.sk-toggleable__label-arrow:before {color: black;}#sk-container-id-2 div.sk-toggleable__content {max-height: 0;max-width: 0;overflow: hidden;text-align: left;background-color: #f0f8ff;}#sk-container-id-2 div.sk-toggleable__content pre {margin: 0.2em;color: black;border-radius: 0.25em;background-color: #f0f8ff;}#sk-container-id-2 input.sk-toggleable__control:checked~div.sk-toggleable__content {max-height: 200px;max-width: 100%;overflow: auto;}#sk-container-id-2 input.sk-toggleable__control:checked~label.sk-toggleable__label-arrow:before {content: \"▾\";}#sk-container-id-2 div.sk-estimator input.sk-toggleable__control:checked~label.sk-toggleable__label {background-color: #d4ebff;}#sk-container-id-2 div.sk-label input.sk-toggleable__control:checked~label.sk-toggleable__label {background-color: #d4ebff;}#sk-container-id-2 input.sk-hidden--visually {border: 0;clip: rect(1px 1px 1px 1px);clip: rect(1px, 1px, 1px, 1px);height: 1px;margin: -1px;overflow: hidden;padding: 0;position: absolute;width: 1px;}#sk-container-id-2 div.sk-estimator {font-family: monospace;background-color: #f0f8ff;border: 1px dotted black;border-radius: 0.25em;box-sizing: border-box;margin-bottom: 0.5em;}#sk-container-id-2 div.sk-estimator:hover {background-color: #d4ebff;}#sk-container-id-2 div.sk-parallel-item::after {content: \"\";width: 100%;border-bottom: 1px solid gray;flex-grow: 1;}#sk-container-id-2 div.sk-label:hover label.sk-toggleable__label {background-color: #d4ebff;}#sk-container-id-2 div.sk-serial::before {content: \"\";position: absolute;border-left: 1px solid gray;box-sizing: border-box;top: 0;bottom: 0;left: 50%;z-index: 0;}#sk-container-id-2 div.sk-serial {display: flex;flex-direction: column;align-items: center;background-color: white;padding-right: 0.2em;padding-left: 0.2em;position: relative;}#sk-container-id-2 div.sk-item {position: relative;z-index: 1;}#sk-container-id-2 div.sk-parallel {display: flex;align-items: stretch;justify-content: center;background-color: white;position: relative;}#sk-container-id-2 div.sk-item::before, #sk-container-id-2 div.sk-parallel-item::before {content: \"\";position: absolute;border-left: 1px solid gray;box-sizing: border-box;top: 0;bottom: 0;left: 50%;z-index: -1;}#sk-container-id-2 div.sk-parallel-item {display: flex;flex-direction: column;z-index: 1;position: relative;background-color: white;}#sk-container-id-2 div.sk-parallel-item:first-child::after {align-self: flex-end;width: 50%;}#sk-container-id-2 div.sk-parallel-item:last-child::after {align-self: flex-start;width: 50%;}#sk-container-id-2 div.sk-parallel-item:only-child::after {width: 0;}#sk-container-id-2 div.sk-dashed-wrapped {border: 1px dashed gray;margin: 0 0.4em 0.5em 0.4em;box-sizing: border-box;padding-bottom: 0.4em;background-color: white;}#sk-container-id-2 div.sk-label label {font-family: monospace;font-weight: bold;display: inline-block;line-height: 1.2em;}#sk-container-id-2 div.sk-label-container {text-align: center;}#sk-container-id-2 div.sk-container {/* jupyter's `normalize.less` sets `[hidden] { display: none; }` but bootstrap.min.css set `[hidden] { display: none !important; }` so we also need the `!important` here to be able to override the default hidden behavior on the sphinx rendered scikit-learn.org. See: https://github.com/scikit-learn/scikit-learn/issues/21755 */display: inline-block !important;position: relative;}#sk-container-id-2 div.sk-text-repr-fallback {display: none;}</style><div id=\"sk-container-id-2\" class=\"sk-top-container\"><div class=\"sk-text-repr-fallback\"><pre>LinearRegression()</pre><b>In a Jupyter environment, please rerun this cell to show the HTML representation or trust the notebook. <br />On GitHub, the HTML representation is unable to render, please try loading this page with nbviewer.org.</b></div><div class=\"sk-container\" hidden><div class=\"sk-item\"><div class=\"sk-estimator sk-toggleable\"><input class=\"sk-toggleable__control sk-hidden--visually\" id=\"sk-estimator-id-2\" type=\"checkbox\" checked><label for=\"sk-estimator-id-2\" class=\"sk-toggleable__label sk-toggleable__label-arrow\">LinearRegression</label><div class=\"sk-toggleable__content\"><pre>LinearRegression()</pre></div></div></div></div></div>"
      ],
      "text/plain": [
       "LinearRegression()"
      ]
     },
     "execution_count": 57,
     "metadata": {},
     "output_type": "execute_result"
    }
   ],
   "source": [
    "lr_Mor_48in_32out = LinearRegression()\n",
    "lr_Mor_48in_32out.fit(X_train, y_train)"
   ]
  },
  {
   "cell_type": "code",
   "execution_count": 58,
   "id": "8dfb6866",
   "metadata": {},
   "outputs": [],
   "source": [
    "pred_lr_Mor_48in_32out = lr_Mor_48in_32out.predict(X_test)"
   ]
  },
  {
   "cell_type": "code",
   "execution_count": 59,
   "id": "269433c6",
   "metadata": {},
   "outputs": [
    {
     "data": {
      "image/png": "[encoded data removed]",
      "text/plain": [
       "<Figure size 1000x600 with 1 Axes>"
      ]
     },
     "metadata": {},
     "output_type": "display_data"
    }
   ],
   "source": [
    "import matplotlib.pyplot as plt\n",
    "plt.figure(figsize=(10, 6))\n",
    "plt.plot(y_test, label='True values', color='blue')\n",
    "plt.plot(pred_lr_Mor_48in_32out, label='Predicted values', color='red')\n",
    "plt.title('Comparison between True and Predicted values')\n",
    "plt.xlabel('Data points')\n",
    "plt.ylabel('Values')\n",
    "plt.legend()\n",
    "plt.show()"
   ]
  },
  {
   "cell_type": "code",
   "execution_count": 60,
   "id": "8b70505b",
   "metadata": {},
   "outputs": [
    {
     "name": "stdout",
     "output_type": "stream",
     "text": [
      "Performance metrics:\n",
      "MSE: 0.0003442966389317847\n",
      "MAE: 0.006364247077761051\n",
      "NSE: 0.8562822449354521\n"
     ]
    }
   ],
   "source": [
    "def nse(y_test, pred_lr_Mor_48in_32out):\n",
    "    numerator = np.sum((y_test - pred_lr_Mor_48in_32out) ** 2)\n",
    "    denominator = np.sum((y_test - np.mean(y_test)) ** 2)\n",
    "    return 1 - (numerator / denominator)\n",
    "\n",
    "mse = mean_squared_error(y_test, pred_lr_Mor_48in_32out)\n",
    "mae = mean_absolute_error(y_test, pred_lr_Mor_48in_32out)\n",
    "nse_value = nse(y_test, pred_lr_Mor_48in_32out)\n",
    "\n",
    "print(\"Performance metrics:\")\n",
    "print(f\"MSE: {mse}\")\n",
    "print(f\"MAE: {mae}\")\n",
    "print(f\"NSE: {nse_value}\")"
   ]
  },
  {
   "cell_type": "code",
   "execution_count": 61,
   "id": "ed40e8a0",
   "metadata": {},
   "outputs": [
    {
     "data": {
      "text/plain": [
       "['lr_Mor_48in_32out.joblib']"
      ]
     },
     "execution_count": 61,
     "metadata": {},
     "output_type": "execute_result"
    }
   ],
   "source": [
    "from joblib import dump\n",
    "dump(lr_Mor_48in_32out, 'lr_Mor_48in_32out.joblib')"
   ]
  },
  {
   "cell_type": "code",
   "execution_count": 62,
   "id": "15e87448-a6bf-4da2-b0d1-44f199d25124",
   "metadata": {},
   "outputs": [],
   "source": [
    "window_size = 48\n",
    "future_steps = 16\n",
    "\n",
    "X_train, y_train = [], []\n",
    "X_test, y_test = [], []\n",
    "\n",
    "for i in range(window_size, len(train_data) - future_steps + 1):\n",
    "    X_train.append(train_data[i - window_size:i, :])\n",
    "    y_train.append(train_data[i + future_steps - 1, -1])\n",
    "\n",
    "for i in range(window_size, len(test_data) - future_steps + 1):\n",
    "    X_test.append(test_data[i - window_size:i, :])\n",
    "    y_test.append(test_data[i + future_steps - 1, -1])\n",
    "\n",
    "X_train, y_train = np.array(X_train), np.array(y_train)\n",
    "X_test, y_test = np.array(X_test), np.array(y_test)\n",
    "\n",
    "X_train = X_train.reshape(X_train.shape[0], -1)\n",
    "X_test = X_test.reshape(X_test.shape[0], -1)"
   ]
  },
  {
   "cell_type": "code",
   "execution_count": 63,
   "id": "f6b1a7f1-54c1-4023-a754-c824e5c88e8e",
   "metadata": {},
   "outputs": [
    {
     "data": {
      "text/html": [
       "<style>#sk-container-id-3 {color: black;background-color: white;}#sk-container-id-3 pre{padding: 0;}#sk-container-id-3 div.sk-toggleable {background-color: white;}#sk-container-id-3 label.sk-toggleable__label {cursor: pointer;display: block;width: 100%;margin-bottom: 0;padding: 0.3em;box-sizing: border-box;text-align: center;}#sk-container-id-3 label.sk-toggleable__label-arrow:before {content: \"▸\";float: left;margin-right: 0.25em;color: #696969;}#sk-container-id-3 label.sk-toggleable__label-arrow:hover:before {color: black;}#sk-container-id-3 div.sk-estimator:hover label.sk-toggleable__label-arrow:before {color: black;}#sk-container-id-3 div.sk-toggleable__content {max-height: 0;max-width: 0;overflow: hidden;text-align: left;background-color: #f0f8ff;}#sk-container-id-3 div.sk-toggleable__content pre {margin: 0.2em;color: black;border-radius: 0.25em;background-color: #f0f8ff;}#sk-container-id-3 input.sk-toggleable__control:checked~div.sk-toggleable__content {max-height: 200px;max-width: 100%;overflow: auto;}#sk-container-id-3 input.sk-toggleable__control:checked~label.sk-toggleable__label-arrow:before {content: \"▾\";}#sk-container-id-3 div.sk-estimator input.sk-toggleable__control:checked~label.sk-toggleable__label {background-color: #d4ebff;}#sk-container-id-3 div.sk-label input.sk-toggleable__control:checked~label.sk-toggleable__label {background-color: #d4ebff;}#sk-container-id-3 input.sk-hidden--visually {border: 0;clip: rect(1px 1px 1px 1px);clip: rect(1px, 1px, 1px, 1px);height: 1px;margin: -1px;overflow: hidden;padding: 0;position: absolute;width: 1px;}#sk-container-id-3 div.sk-estimator {font-family: monospace;background-color: #f0f8ff;border: 1px dotted black;border-radius: 0.25em;box-sizing: border-box;margin-bottom: 0.5em;}#sk-container-id-3 div.sk-estimator:hover {background-color: #d4ebff;}#sk-container-id-3 div.sk-parallel-item::after {content: \"\";width: 100%;border-bottom: 1px solid gray;flex-grow: 1;}#sk-container-id-3 div.sk-label:hover label.sk-toggleable__label {background-color: #d4ebff;}#sk-container-id-3 div.sk-serial::before {content: \"\";position: absolute;border-left: 1px solid gray;box-sizing: border-box;top: 0;bottom: 0;left: 50%;z-index: 0;}#sk-container-id-3 div.sk-serial {display: flex;flex-direction: column;align-items: center;background-color: white;padding-right: 0.2em;padding-left: 0.2em;position: relative;}#sk-container-id-3 div.sk-item {position: relative;z-index: 1;}#sk-container-id-3 div.sk-parallel {display: flex;align-items: stretch;justify-content: center;background-color: white;position: relative;}#sk-container-id-3 div.sk-item::before, #sk-container-id-3 div.sk-parallel-item::before {content: \"\";position: absolute;border-left: 1px solid gray;box-sizing: border-box;top: 0;bottom: 0;left: 50%;z-index: -1;}#sk-container-id-3 div.sk-parallel-item {display: flex;flex-direction: column;z-index: 1;position: relative;background-color: white;}#sk-container-id-3 div.sk-parallel-item:first-child::after {align-self: flex-end;width: 50%;}#sk-container-id-3 div.sk-parallel-item:last-child::after {align-self: flex-start;width: 50%;}#sk-container-id-3 div.sk-parallel-item:only-child::after {width: 0;}#sk-container-id-3 div.sk-dashed-wrapped {border: 1px dashed gray;margin: 0 0.4em 0.5em 0.4em;box-sizing: border-box;padding-bottom: 0.4em;background-color: white;}#sk-container-id-3 div.sk-label label {font-family: monospace;font-weight: bold;display: inline-block;line-height: 1.2em;}#sk-container-id-3 div.sk-label-container {text-align: center;}#sk-container-id-3 div.sk-container {/* jupyter's `normalize.less` sets `[hidden] { display: none; }` but bootstrap.min.css set `[hidden] { display: none !important; }` so we also need the `!important` here to be able to override the default hidden behavior on the sphinx rendered scikit-learn.org. See: https://github.com/scikit-learn/scikit-learn/issues/21755 */display: inline-block !important;position: relative;}#sk-container-id-3 div.sk-text-repr-fallback {display: none;}</style><div id=\"sk-container-id-3\" class=\"sk-top-container\"><div class=\"sk-text-repr-fallback\"><pre>LinearRegression()</pre><b>In a Jupyter environment, please rerun this cell to show the HTML representation or trust the notebook. <br />On GitHub, the HTML representation is unable to render, please try loading this page with nbviewer.org.</b></div><div class=\"sk-container\" hidden><div class=\"sk-item\"><div class=\"sk-estimator sk-toggleable\"><input class=\"sk-toggleable__control sk-hidden--visually\" id=\"sk-estimator-id-3\" type=\"checkbox\" checked><label for=\"sk-estimator-id-3\" class=\"sk-toggleable__label sk-toggleable__label-arrow\">LinearRegression</label><div class=\"sk-toggleable__content\"><pre>LinearRegression()</pre></div></div></div></div></div>"
      ],
      "text/plain": [
       "LinearRegression()"
      ]
     },
     "execution_count": 63,
     "metadata": {},
     "output_type": "execute_result"
    }
   ],
   "source": [
    "lr_Mor_48in_16out = LinearRegression()\n",
    "lr_Mor_48in_16out.fit(X_train, y_train)"
   ]
  },
  {
   "cell_type": "code",
   "execution_count": 64,
   "id": "a3b25d02",
   "metadata": {},
   "outputs": [],
   "source": [
    "pred_lr_Mor_48in_16out = lr_Mor_48in_16out.predict(X_test)"
   ]
  },
  {
   "cell_type": "code",
   "execution_count": 65,
   "id": "6fcd9592",
   "metadata": {},
   "outputs": [
    {
     "data": {
      "image/png": "[encoded data removed]",
      "text/plain": [
       "<Figure size 1000x600 with 1 Axes>"
      ]
     },
     "metadata": {},
     "output_type": "display_data"
    }
   ],
   "source": [
    "import matplotlib.pyplot as plt\n",
    "plt.figure(figsize=(10, 6))\n",
    "plt.plot(y_test, label='True values', color='blue')\n",
    "plt.plot(pred_lr_Mor_48in_16out, label='Predicted values', color='red')\n",
    "plt.title('Comparison between True and Predicted values')\n",
    "plt.xlabel('Data points')\n",
    "plt.ylabel('Values')\n",
    "plt.legend()\n",
    "plt.show()"
   ]
  },
  {
   "cell_type": "code",
   "execution_count": 66,
   "id": "6379a236",
   "metadata": {},
   "outputs": [
    {
     "name": "stdout",
     "output_type": "stream",
     "text": [
      "Performance metrics:\n",
      "MSE: 0.00010141943175848783\n",
      "MAE: 0.0034855129230350374\n",
      "NSE: 0.9576584158063842\n"
     ]
    }
   ],
   "source": [
    "def nse(y_test, pred_lr_Mor_48in_16out):\n",
    "    numerator = np.sum((y_test - pred_lr_Mor_48in_16out) ** 2)\n",
    "    denominator = np.sum((y_test - np.mean(y_test)) ** 2)\n",
    "    return 1 - (numerator / denominator)\n",
    "\n",
    "mse = mean_squared_error(y_test, pred_lr_Mor_48in_16out)\n",
    "mae = mean_absolute_error(y_test, pred_lr_Mor_48in_16out)\n",
    "nse_value = nse(y_test, pred_lr_Mor_48in_16out)\n",
    "\n",
    "print(\"Performance metrics:\")\n",
    "print(f\"MSE: {mse}\")\n",
    "print(f\"MAE: {mae}\")\n",
    "print(f\"NSE: {nse_value}\")"
   ]
  },
  {
   "cell_type": "code",
   "execution_count": 67,
   "id": "07bd5d9f-2098-494d-bc61-79f81c5c4406",
   "metadata": {},
   "outputs": [
    {
     "data": {
      "text/plain": [
       "['lr_Mor_48in_16out.joblib']"
      ]
     },
     "execution_count": 67,
     "metadata": {},
     "output_type": "execute_result"
    }
   ],
   "source": [
    "from joblib import dump\n",
    "dump(lr_Mor_48in_16out, 'lr_Mor_48in_16out.joblib')"
   ]
  },
  {
   "cell_type": "code",
   "execution_count": 84,
   "id": "18c554d1-5c93-498a-a10a-431d8763c96d",
   "metadata": {},
   "outputs": [],
   "source": [
    "window_size = 48\n",
    "future_steps = 8\n",
    "\n",
    "X_train, y_train = [], []\n",
    "X_test, y_test = [], []\n",
    "\n",
    "for i in range(window_size, len(train_data) - future_steps + 1):\n",
    "    X_train.append(train_data[i - window_size:i, :])\n",
    "    y_train.append(train_data[i + future_steps - 1, -1])\n",
    "\n",
    "for i in range(window_size, len(test_data) - future_steps + 1):\n",
    "    X_test.append(test_data[i - window_size:i, :])\n",
    "    y_test.append(test_data[i + future_steps - 1, -1])\n",
    "\n",
    "X_train, y_train = np.array(X_train), np.array(y_train)\n",
    "X_test, y_test = np.array(X_test), np.array(y_test)\n",
    "\n",
    "X_train = X_train.reshape(X_train.shape[0], -1)\n",
    "X_test = X_test.reshape(X_test.shape[0], -1)"
   ]
  },
  {
   "cell_type": "code",
   "execution_count": 85,
   "id": "56154418-f70f-42c7-bea7-cd188dc8bfcd",
   "metadata": {},
   "outputs": [
    {
     "data": {
      "text/html": [
       "<style>#sk-container-id-5 {color: black;background-color: white;}#sk-container-id-5 pre{padding: 0;}#sk-container-id-5 div.sk-toggleable {background-color: white;}#sk-container-id-5 label.sk-toggleable__label {cursor: pointer;display: block;width: 100%;margin-bottom: 0;padding: 0.3em;box-sizing: border-box;text-align: center;}#sk-container-id-5 label.sk-toggleable__label-arrow:before {content: \"▸\";float: left;margin-right: 0.25em;color: #696969;}#sk-container-id-5 label.sk-toggleable__label-arrow:hover:before {color: black;}#sk-container-id-5 div.sk-estimator:hover label.sk-toggleable__label-arrow:before {color: black;}#sk-container-id-5 div.sk-toggleable__content {max-height: 0;max-width: 0;overflow: hidden;text-align: left;background-color: #f0f8ff;}#sk-container-id-5 div.sk-toggleable__content pre {margin: 0.2em;color: black;border-radius: 0.25em;background-color: #f0f8ff;}#sk-container-id-5 input.sk-toggleable__control:checked~div.sk-toggleable__content {max-height: 200px;max-width: 100%;overflow: auto;}#sk-container-id-5 input.sk-toggleable__control:checked~label.sk-toggleable__label-arrow:before {content: \"▾\";}#sk-container-id-5 div.sk-estimator input.sk-toggleable__control:checked~label.sk-toggleable__label {background-color: #d4ebff;}#sk-container-id-5 div.sk-label input.sk-toggleable__control:checked~label.sk-toggleable__label {background-color: #d4ebff;}#sk-container-id-5 input.sk-hidden--visually {border: 0;clip: rect(1px 1px 1px 1px);clip: rect(1px, 1px, 1px, 1px);height: 1px;margin: -1px;overflow: hidden;padding: 0;position: absolute;width: 1px;}#sk-container-id-5 div.sk-estimator {font-family: monospace;background-color: #f0f8ff;border: 1px dotted black;border-radius: 0.25em;box-sizing: border-box;margin-bottom: 0.5em;}#sk-container-id-5 div.sk-estimator:hover {background-color: #d4ebff;}#sk-container-id-5 div.sk-parallel-item::after {content: \"\";width: 100%;border-bottom: 1px solid gray;flex-grow: 1;}#sk-container-id-5 div.sk-label:hover label.sk-toggleable__label {background-color: #d4ebff;}#sk-container-id-5 div.sk-serial::before {content: \"\";position: absolute;border-left: 1px solid gray;box-sizing: border-box;top: 0;bottom: 0;left: 50%;z-index: 0;}#sk-container-id-5 div.sk-serial {display: flex;flex-direction: column;align-items: center;background-color: white;padding-right: 0.2em;padding-left: 0.2em;position: relative;}#sk-container-id-5 div.sk-item {position: relative;z-index: 1;}#sk-container-id-5 div.sk-parallel {display: flex;align-items: stretch;justify-content: center;background-color: white;position: relative;}#sk-container-id-5 div.sk-item::before, #sk-container-id-5 div.sk-parallel-item::before {content: \"\";position: absolute;border-left: 1px solid gray;box-sizing: border-box;top: 0;bottom: 0;left: 50%;z-index: -1;}#sk-container-id-5 div.sk-parallel-item {display: flex;flex-direction: column;z-index: 1;position: relative;background-color: white;}#sk-container-id-5 div.sk-parallel-item:first-child::after {align-self: flex-end;width: 50%;}#sk-container-id-5 div.sk-parallel-item:last-child::after {align-self: flex-start;width: 50%;}#sk-container-id-5 div.sk-parallel-item:only-child::after {width: 0;}#sk-container-id-5 div.sk-dashed-wrapped {border: 1px dashed gray;margin: 0 0.4em 0.5em 0.4em;box-sizing: border-box;padding-bottom: 0.4em;background-color: white;}#sk-container-id-5 div.sk-label label {font-family: monospace;font-weight: bold;display: inline-block;line-height: 1.2em;}#sk-container-id-5 div.sk-label-container {text-align: center;}#sk-container-id-5 div.sk-container {/* jupyter's `normalize.less` sets `[hidden] { display: none; }` but bootstrap.min.css set `[hidden] { display: none !important; }` so we also need the `!important` here to be able to override the default hidden behavior on the sphinx rendered scikit-learn.org. See: https://github.com/scikit-learn/scikit-learn/issues/21755 */display: inline-block !important;position: relative;}#sk-container-id-5 div.sk-text-repr-fallback {display: none;}</style><div id=\"sk-container-id-5\" class=\"sk-top-container\"><div class=\"sk-text-repr-fallback\"><pre>LinearRegression()</pre><b>In a Jupyter environment, please rerun this cell to show the HTML representation or trust the notebook. <br />On GitHub, the HTML representation is unable to render, please try loading this page with nbviewer.org.</b></div><div class=\"sk-container\" hidden><div class=\"sk-item\"><div class=\"sk-estimator sk-toggleable\"><input class=\"sk-toggleable__control sk-hidden--visually\" id=\"sk-estimator-id-5\" type=\"checkbox\" checked><label for=\"sk-estimator-id-5\" class=\"sk-toggleable__label sk-toggleable__label-arrow\">LinearRegression</label><div class=\"sk-toggleable__content\"><pre>LinearRegression()</pre></div></div></div></div></div>"
      ],
      "text/plain": [
       "LinearRegression()"
      ]
     },
     "execution_count": 85,
     "metadata": {},
     "output_type": "execute_result"
    }
   ],
   "source": [
    "lr_Mor_48in_8out = LinearRegression()\n",
    "lr_Mor_48in_8out.fit(X_train, y_train)"
   ]
  },
  {
   "cell_type": "code",
   "execution_count": 86,
   "id": "f72f21fd-d7cc-4f63-b005-01a27e804785",
   "metadata": {},
   "outputs": [],
   "source": [
    "pred_lr_Mor_48in_8out = lr_Mor_48in_8out.predict(X_test)"
   ]
  },
  {
   "cell_type": "code",
   "execution_count": 87,
   "id": "609c28be",
   "metadata": {},
   "outputs": [
    {
     "data": {
      "image/png": "[encoded data removed]",
      "text/plain": [
       "<Figure size 1000x600 with 1 Axes>"
      ]
     },
     "metadata": {},
     "output_type": "display_data"
    }
   ],
   "source": [
    "import matplotlib.pyplot as plt\n",
    "plt.figure(figsize=(10, 6))\n",
    "plt.plot(y_test, label='True values', color='blue')\n",
    "plt.plot(pred_lr_Mor_48in_8out, label='Predicted values', color='red')\n",
    "plt.title('Comparison between True and Predicted values')\n",
    "plt.xlabel('Data points')\n",
    "plt.ylabel('Values')\n",
    "plt.legend()\n",
    "plt.show()"
   ]
  },
  {
   "cell_type": "code",
   "execution_count": 88,
   "id": "84cf454f-6b05-41c5-aa59-e619bbcc0f6d",
   "metadata": {},
   "outputs": [
    {
     "name": "stdout",
     "output_type": "stream",
     "text": [
      "Performance metrics:\n",
      "MSE: 2.3787903670523984e-05\n",
      "MAE: 0.0018757500555715535\n",
      "NSE: 0.99006834691042\n"
     ]
    }
   ],
   "source": [
    "def nse(y_test, pred_lr_Mor_48in_8out):\n",
    "    numerator = np.sum((y_test - pred_lr_Mor_48in_8out) ** 2)\n",
    "    denominator = np.sum((y_test - np.mean(y_test)) ** 2)\n",
    "    return 1 - (numerator / denominator)\n",
    "\n",
    "mse = mean_squared_error(y_test, pred_lr_Mor_48in_8out)\n",
    "mae = mean_absolute_error(y_test, pred_lr_Mor_48in_8out)\n",
    "nse_value = nse(y_test, pred_lr_Mor_48in_8out)\n",
    "\n",
    "print(\"Performance metrics:\")\n",
    "print(f\"MSE: {mse}\")\n",
    "print(f\"MAE: {mae}\")\n",
    "print(f\"NSE: {nse_value}\")"
   ]
  },
  {
   "cell_type": "code",
   "execution_count": 89,
   "id": "c7d09eec",
   "metadata": {},
   "outputs": [
    {
     "data": {
      "text/plain": [
       "['lr_Mor_48in_8out.joblib']"
      ]
     },
     "execution_count": 89,
     "metadata": {},
     "output_type": "execute_result"
    }
   ],
   "source": [
    "dump(lr_Mor_48in_8out, 'lr_Mor_48in_8out.joblib')"
   ]
  }
 ],
 "metadata": {
  "kernelspec": {
   "display_name": "Python 3 (ipykernel)",
   "language": "python",
   "name": "python3"
  },
  "language_info": {
   "codemirror_mode": {
    "name": "ipython",
    "version": 3
   },
   "file_extension": ".py",
   "mimetype": "text/x-python",
   "name": "python",
   "nbconvert_exporter": "python",
   "pygments_lexer": "ipython3",
   "version": "3.10.9"
  }
 },
 "nbformat": 4,
 "nbformat_minor": 5
}
